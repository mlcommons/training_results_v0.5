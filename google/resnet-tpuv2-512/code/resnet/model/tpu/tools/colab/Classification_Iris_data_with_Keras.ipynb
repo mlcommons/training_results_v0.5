{
  "nbformat": 4,
  "nbformat_minor": 0,
  "metadata": {
    "colab": {
      "name": "Simple Classification Model using Keras on Colab TPU.ipynb",
      "version": "0.3.2",
      "provenance": [],
      "collapsed_sections": [],
      "toc_visible": true
    },
    "kernelspec": {
      "name": "python2",
      "display_name": "Python 2"
    },
    "accelerator": "TPU"
  },
  "cells": [
    {
      "metadata": {
        "id": "a0TLC65g9W5n",
        "colab_type": "text"
      },
      "cell_type": "markdown",
      "source": [
        "# A simple classification model using Keras with Cloud TPUs\n",
        "\n",
        "This notebook demonstrates using Cloud TPUs in colab to build a simple classification model using iris dataset to predict the species of the flower. This model is using 4 input features ***(SepalLength, SepalWidth, PetalLength, PetalWidth)*** to determine one of these flower species ***(Setosa, Versicolor, Virginica)***.\n",
        "\n",
        "**Advantages:**\n",
        "*   GCP account is not compulsory which is a must pre-requisite for the models using TPUEstimator()\n",
        "*   This tutorial gives a way to take your own data insteasd of using already loaded data into Keras.\n",
        "\n",
        "\n",
        "\n",
        "**NOTE:** This tutorial is just for learning how to write a simple model using Keras. It should not be used for comparision with training on CPU's because we have very less data in this iris_data example."
      ]
    },
    {
      "metadata": {
        "id": "ACiNzAp8AoWR",
        "colab_type": "text"
      },
      "cell_type": "markdown",
      "source": [
        "###Imports"
      ]
    },
    {
      "metadata": {
        "id": "IgQge6h7AqDw",
        "colab_type": "code",
        "colab": {}
      },
      "cell_type": "code",
      "source": [
        "#  Copyright 2018 The TensorFlow Authors. All Rights Reserved.\n",
        "#\n",
        "#  Licensed under the Apache License, Version 2.0 (the \"License\");\n",
        "#  you may not use this file except in compliance with the License.\n",
        "#  You may obtain a copy of the License at\n",
        "#\n",
        "#   http://www.apache.org/licenses/LICENSE-2.0\n",
        "#\n",
        "#  Unless required by applicable law or agreed to in writing, software\n",
        "#  distributed under the License is distributed on an \"AS IS\" BASIS,0\n",
        "#  WITHOUT WARRANTIES OR CONDITIONS OF ANY KIND, either express or implied.\n",
        "#  See the License for the specific language governing permissions and\n",
        "#  limitations under the License.\n",
        "\"\"\"An Example of a classification model using Keras for the Iris dataset.\"\"\"\n",
        "\n",
        "import json\n",
        "import os\n",
        "import pandas as pd\n",
        "import pprint\n",
        "import tensorflow as tf\n",
        "import time\n",
        "import numpy as np\n",
        "from tensorflow import keras\n"
      ],
      "execution_count": 0,
      "outputs": []
    },
    {
      "metadata": {
        "id": "AFZEq6epY-Sy",
        "colab_type": "code",
        "outputId": "7be356a2-9b3c-4577-d884-3a3cb24354f2",
        "colab": {
          "base_uri": "https://localhost:8080/",
          "height": 35
        }
      },
      "cell_type": "code",
      "source": [
        "print(tf.__version__)"
      ],
      "execution_count": 0,
      "outputs": [
        {
          "output_type": "stream",
          "text": [
            "1.12.0-rc1\n"
          ],
          "name": "stdout"
        }
      ]
    },
    {
      "metadata": {
        "id": "7FCdy1aBAsXe",
        "colab_type": "text"
      },
      "cell_type": "markdown",
      "source": [
        "###Resolve TPU Address"
      ]
    },
    {
      "metadata": {
        "id": "phzyD8iCAzcp",
        "colab_type": "code",
        "outputId": "9a13d78d-353e-44b8-fb61-0343c2214776",
        "colab": {
          "base_uri": "https://localhost:8080/",
          "height": 251
        }
      },
      "cell_type": "code",
      "source": [
        "use_tpu = True #@param {type:\"boolean\"}\n",
        "\n",
        "if use_tpu:\n",
        "    assert 'COLAB_TPU_ADDR' in os.environ, 'Missing TPU; did you request a TPU in Notebook Settings?'\n",
        "\n",
        "if 'COLAB_TPU_ADDR' in os.environ:\n",
        "  TF_MASTER = 'grpc://{}'.format(os.environ['COLAB_TPU_ADDR'])\n",
        "else:\n",
        "  TF_MASTER=''\n",
        "\n",
        "with tf.Session(TF_MASTER) as session:\n",
        "  print ('List of devices:')\n",
        "  pprint.pprint(session.list_devices())"
      ],
      "execution_count": 0,
      "outputs": [
        {
          "output_type": "stream",
          "text": [
            "List of devices:\n",
            "[_DeviceAttributes(/job:tpu_worker/replica:0/task:0/device:CPU:0, CPU, -1, 10756513128697293510),\n",
            " _DeviceAttributes(/job:tpu_worker/replica:0/task:0/device:XLA_CPU:0, XLA_CPU, 17179869184, 8185962120762337342),\n",
            " _DeviceAttributes(/job:tpu_worker/replica:0/task:0/device:XLA_GPU:0, XLA_GPU, 17179869184, 11983346911074778577),\n",
            " _DeviceAttributes(/job:tpu_worker/replica:0/task:0/device:TPU:0, TPU, 17179869184, 16727884038864215972),\n",
            " _DeviceAttributes(/job:tpu_worker/replica:0/task:0/device:TPU:1, TPU, 17179869184, 10359765307369019206),\n",
            " _DeviceAttributes(/job:tpu_worker/replica:0/task:0/device:TPU:2, TPU, 17179869184, 1811244341424894577),\n",
            " _DeviceAttributes(/job:tpu_worker/replica:0/task:0/device:TPU:3, TPU, 17179869184, 4392405938190321287),\n",
            " _DeviceAttributes(/job:tpu_worker/replica:0/task:0/device:TPU:4, TPU, 17179869184, 3351626764135995345),\n",
            " _DeviceAttributes(/job:tpu_worker/replica:0/task:0/device:TPU:5, TPU, 17179869184, 14422639591175693592),\n",
            " _DeviceAttributes(/job:tpu_worker/replica:0/task:0/device:TPU:6, TPU, 17179869184, 4240283738393386217),\n",
            " _DeviceAttributes(/job:tpu_worker/replica:0/task:0/device:TPU:7, TPU, 17179869184, 13029909229922257310),\n",
            " _DeviceAttributes(/job:tpu_worker/replica:0/task:0/device:TPU_SYSTEM:0, TPU_SYSTEM, 17179869184, 13331779381104184534)]\n"
          ],
          "name": "stdout"
        }
      ]
    },
    {
      "metadata": {
        "id": "r0AEjD1vKGXO",
        "colab_type": "text"
      },
      "cell_type": "markdown",
      "source": [
        "###FLAGS used as model params"
      ]
    },
    {
      "metadata": {
        "id": "0tcdTWw1KLiF",
        "colab_type": "code",
        "colab": {}
      },
      "cell_type": "code",
      "source": [
        "# Model specific parameters\n",
        "\n",
        "# TPU address\n",
        "tpu_address = TF_MASTER\n",
        "\n",
        "# Number of epochs\n",
        "epochs = 50\n",
        "\n",
        "# Number of steps_per_epoch\n",
        "steps_per_epoch = 20\n",
        "\n",
        "# NOTE: Total number of training steps = Number of epochs * Number of steps_per_epochs\n",
        "\n",
        "# Total number of evaluation steps. If '0', evaluation after training is skipped\n",
        "eval_steps = 50"
      ],
      "execution_count": 0,
      "outputs": []
    },
    {
      "metadata": {
        "id": "I3Ckb7SEKSGO",
        "colab_type": "text"
      },
      "cell_type": "markdown",
      "source": [
        "###Download training input data and define prediction input & output"
      ]
    },
    {
      "metadata": {
        "id": "Y1qZ3cWyKb-b",
        "colab_type": "code",
        "colab": {}
      },
      "cell_type": "code",
      "source": [
        "TRAIN_URL = \"http://download.tensorflow.org/data/iris_training.csv\"\n",
        "TEST_URL = \"http://download.tensorflow.org/data/iris_test.csv\"\n",
        "\n",
        "CSV_COLUMN_NAMES = ['SepalLength', 'SepalWidth',\n",
        "                    'PetalLength', 'PetalWidth', 'Species']\n",
        "SPECIES = ['Setosa', 'Versicolor', 'Virginica']\n",
        "\n",
        "PREDICTION_INPUT_DATA = {\n",
        "    'SepalLength': [6.9, 5.1, 5.9, 6.0, 5.5, 6.2, 5.5, 6.3],\n",
        "    'SepalWidth': [3.1, 3.3, 3.0, 3.4, 2.5, 2.9, 4.2, 2.8],\n",
        "    'PetalLength': [5.4, 1.7, 4.2, 4.5, 4.0, 4.3, 1.4, 5.1],\n",
        "    'PetalWidth': [2.1, 0.5, 1.5, 1.6, 1.3, 1.3, 0.2, 1.5],\n",
        "}\n",
        "\n",
        "PREDICTION_OUTPUT_DATA = ['Virginica', 'Setosa', 'Versicolor', 'Versicolor', 'Versicolor', 'Versicolor', 'Setosa', 'Virginica']\n",
        "\n",
        "def maybe_download():\n",
        "    train_path = tf.keras.utils.get_file(TRAIN_URL.split('/')[-1], TRAIN_URL)\n",
        "    test_path = tf.keras.utils.get_file(TEST_URL.split('/')[-1], TEST_URL)\n",
        "\n",
        "    return train_path, test_path\n",
        "\n",
        "def load_data(y_name='Species'):\n",
        "    \"\"\"Returns the iris dataset as (train_x, train_y), (test_x, test_y).\"\"\"\n",
        "    train_path, test_path = maybe_download()\n",
        "\n",
        "    train = pd.read_csv(train_path, names=CSV_COLUMN_NAMES, header=0, dtype={'SepalLength': pd.np.float32,\n",
        "        'SepalWidth': pd.np.float32, 'PetalLength': pd.np.float32, 'PetalWidth': pd.np.float32, 'Species': pd.np.int32})\n",
        "    train_x, train_y = train, train.pop(y_name)\n",
        "\n",
        "    test = pd.read_csv(test_path, names=CSV_COLUMN_NAMES, header=0, dtype={'SepalLength': pd.np.float32,\n",
        "        'SepalWidth': pd.np.float32, 'PetalLength': pd.np.float32, 'PetalWidth': pd.np.float32, 'Species': pd.np.int32})\n",
        "    test_x, test_y = test, test.pop(y_name)\n",
        "\n",
        "    return (train_x, train_y), (test_x, test_y)"
      ],
      "execution_count": 0,
      "outputs": []
    },
    {
      "metadata": {
        "id": "3UhOWs26pEaq",
        "colab_type": "text"
      },
      "cell_type": "markdown",
      "source": [
        "###Define model (2 hidden layers with 10 neurons in each)"
      ]
    },
    {
      "metadata": {
        "id": "OyFLGbBcLT8e",
        "colab_type": "code",
        "colab": {}
      },
      "cell_type": "code",
      "source": [
        "def get_model():\n",
        "  return keras.Sequential([\n",
        "    keras.layers.Dense(10, input_shape=(4,), activation=tf.nn.relu, name = \"Dense_1\"),\n",
        "    keras.layers.Dense(10, activation=tf.nn.relu, name = \"Dense_2\"),\n",
        "    keras.layers.Dense(3, activation=None, name = \"logits\"),\n",
        "    keras.layers.Dense(3, activation=tf.nn.softmax, name = \"softmax\")\n",
        "  ])"
      ],
      "execution_count": 0,
      "outputs": []
    },
    {
      "metadata": {
        "id": "yV9uzDL3bBLG",
        "colab_type": "code",
        "outputId": "c7fb152a-e4f5-48bd-9822-76c8a761bb22",
        "colab": {
          "base_uri": "https://localhost:8080/",
          "height": 287
        }
      },
      "cell_type": "code",
      "source": [
        "dnn_model = get_model()\n",
        "dnn_model.compile(optimizer=tf.train.AdagradOptimizer(learning_rate=0.1), \n",
        "              loss='sparse_categorical_crossentropy',\n",
        "              metrics=['sparse_categorical_crossentropy'])\n",
        "\n",
        "dnn_model.summary()"
      ],
      "execution_count": 0,
      "outputs": [
        {
          "output_type": "stream",
          "text": [
            "_________________________________________________________________\n",
            "Layer (type)                 Output Shape              Param #   \n",
            "=================================================================\n",
            "Dense_1 (Dense)              (None, 10)                50        \n",
            "_________________________________________________________________\n",
            "Dense_2 (Dense)              (None, 10)                110       \n",
            "_________________________________________________________________\n",
            "logits (Dense)               (None, 3)                 33        \n",
            "_________________________________________________________________\n",
            "softmax (Dense)              (None, 3)                 12        \n",
            "=================================================================\n",
            "Total params: 205\n",
            "Trainable params: 205\n",
            "Non-trainable params: 0\n",
            "_________________________________________________________________\n"
          ],
          "name": "stdout"
        }
      ]
    },
    {
      "metadata": {
        "id": "ZbwW0pDxFQyx",
        "colab_type": "text"
      },
      "cell_type": "markdown",
      "source": [
        "###Creating a TPU model from a Keras Model"
      ]
    },
    {
      "metadata": {
        "id": "2xnX-NTsFQQa",
        "colab_type": "code",
        "outputId": "b219fa9d-6e83-4a8e-a1b5-f59ba7b41eb8",
        "colab": {
          "base_uri": "https://localhost:8080/",
          "height": 647
        }
      },
      "cell_type": "code",
      "source": [
        "tpu_model = tf.contrib.tpu.keras_to_tpu_model(\n",
        "    dnn_model,\n",
        "    strategy=tf.contrib.tpu.TPUDistributionStrategy(\n",
        "        tf.contrib.cluster_resolver.TPUClusterResolver(TF_MASTER)))\n",
        "\n",
        "tpu_model.summary()"
      ],
      "execution_count": 0,
      "outputs": [
        {
          "output_type": "stream",
          "text": [
            "INFO:tensorflow:Querying Tensorflow master (grpc://10.75.13.138:8470) for TPU system metadata.\n",
            "INFO:tensorflow:Found TPU system:\n",
            "INFO:tensorflow:*** Num TPU Cores: 8\n",
            "INFO:tensorflow:*** Num TPU Workers: 1\n",
            "INFO:tensorflow:*** Num TPU Cores Per Worker: 8\n",
            "INFO:tensorflow:*** Available Device: _DeviceAttributes(/job:worker/replica:0/task:0/device:CPU:0, CPU, -1, 10756513128697293510)\n",
            "INFO:tensorflow:*** Available Device: _DeviceAttributes(/job:worker/replica:0/task:0/device:XLA_CPU:0, XLA_CPU, 17179869184, 8185962120762337342)\n",
            "INFO:tensorflow:*** Available Device: _DeviceAttributes(/job:worker/replica:0/task:0/device:XLA_GPU:0, XLA_GPU, 17179869184, 11983346911074778577)\n",
            "INFO:tensorflow:*** Available Device: _DeviceAttributes(/job:worker/replica:0/task:0/device:TPU:0, TPU, 17179869184, 16727884038864215972)\n",
            "INFO:tensorflow:*** Available Device: _DeviceAttributes(/job:worker/replica:0/task:0/device:TPU:1, TPU, 17179869184, 10359765307369019206)\n",
            "INFO:tensorflow:*** Available Device: _DeviceAttributes(/job:worker/replica:0/task:0/device:TPU:2, TPU, 17179869184, 1811244341424894577)\n",
            "INFO:tensorflow:*** Available Device: _DeviceAttributes(/job:worker/replica:0/task:0/device:TPU:3, TPU, 17179869184, 4392405938190321287)\n",
            "INFO:tensorflow:*** Available Device: _DeviceAttributes(/job:worker/replica:0/task:0/device:TPU:4, TPU, 17179869184, 3351626764135995345)\n",
            "INFO:tensorflow:*** Available Device: _DeviceAttributes(/job:worker/replica:0/task:0/device:TPU:5, TPU, 17179869184, 14422639591175693592)\n",
            "INFO:tensorflow:*** Available Device: _DeviceAttributes(/job:worker/replica:0/task:0/device:TPU:6, TPU, 17179869184, 4240283738393386217)\n",
            "INFO:tensorflow:*** Available Device: _DeviceAttributes(/job:worker/replica:0/task:0/device:TPU:7, TPU, 17179869184, 13029909229922257310)\n",
            "INFO:tensorflow:*** Available Device: _DeviceAttributes(/job:worker/replica:0/task:0/device:TPU_SYSTEM:0, TPU_SYSTEM, 17179869184, 13331779381104184534)\n",
            "WARNING:tensorflow:tpu_model (from tensorflow.contrib.tpu.python.tpu.keras_support) is experimental and may change or be removed at any time, and without warning.\n",
            "_________________________________________________________________\n",
            "Layer (type)                 Output Shape              Param #   \n",
            "=================================================================\n",
            "Dense_1_input (InputLayer)   (None, 4)                 0         \n",
            "_________________________________________________________________\n",
            "Dense_1 (Dense)              (None, 10)                50        \n",
            "_________________________________________________________________\n",
            "Dense_2 (Dense)              (None, 10)                110       \n",
            "_________________________________________________________________\n",
            "logits (Dense)               (None, 3)                 33        \n",
            "_________________________________________________________________\n",
            "softmax (Dense)              (None, 3)                 12        \n",
            "=================================================================\n",
            "Total params: 205\n",
            "Trainable params: 205\n",
            "Non-trainable params: 0\n",
            "_________________________________________________________________\n"
          ],
          "name": "stdout"
        }
      ]
    },
    {
      "metadata": {
        "id": "cMKySsFRFzlg",
        "colab_type": "text"
      },
      "cell_type": "markdown",
      "source": [
        "###Training of the model on TPU"
      ]
    },
    {
      "metadata": {
        "id": "9EoghGTOUvyz",
        "colab_type": "code",
        "outputId": "ec0d0b2f-00ab-4cca-e374-454127efff20",
        "colab": {
          "base_uri": "https://localhost:8080/",
          "height": 1963
        }
      },
      "cell_type": "code",
      "source": [
        "# Fetch the data\n",
        "(train_x, train_y), (test_x, test_y) = load_data()\n",
        "\n",
        "# Train the model\n",
        "tpu_model.fit(\n",
        "  train_x, train_y,\n",
        "  steps_per_epoch = steps_per_epoch,\n",
        "  epochs=epochs,\n",
        ")"
      ],
      "execution_count": 0,
      "outputs": [
        {
          "output_type": "stream",
          "text": [
            "Epoch 1/50\n",
            "INFO:tensorflow:New input shapes; (re-)compiling: mode=train (# of cores 8), [TensorSpec(shape=(1395,), dtype=tf.int32, name=u'core_id_30'), TensorSpec(shape=(1395, 4), dtype=tf.float32, name=u'Dense_1_input_30'), TensorSpec(shape=(1395, 1), dtype=tf.float32, name=u'softmax_target_70')]\n",
            "INFO:tensorflow:Overriding default placeholder.\n",
            "INFO:tensorflow:Remapping placeholder for Dense_1_input\n",
            "INFO:tensorflow:Started compiling\n",
            "INFO:tensorflow:Finished compiling. Time elapsed: 1.81500887871 secs\n",
            "INFO:tensorflow:Setting weights on TPU model.\n",
            "20/20 [==============================] - 4s 200ms/step - loss: 0.8510 - sparse_categorical_crossentropy: 0.8510\n",
            "Epoch 2/50\n",
            "20/20 [==============================] - 0s 17ms/step - loss: 0.3791 - sparse_categorical_crossentropy: 0.3791\n",
            "Epoch 3/50\n",
            "20/20 [==============================] - 0s 18ms/step - loss: 0.2966 - sparse_categorical_crossentropy: 0.2966\n",
            "Epoch 4/50\n",
            "20/20 [==============================] - 0s 17ms/step - loss: 0.2180 - sparse_categorical_crossentropy: 0.2180\n",
            "Epoch 5/50\n",
            "20/20 [==============================] - 0s 17ms/step - loss: 0.1531 - sparse_categorical_crossentropy: 0.1531\n",
            "Epoch 6/50\n",
            "20/20 [==============================] - 0s 17ms/step - loss: 0.1259 - sparse_categorical_crossentropy: 0.1259\n",
            "Epoch 7/50\n",
            "20/20 [==============================] - 0s 17ms/step - loss: 0.1086 - sparse_categorical_crossentropy: 0.1086\n",
            "Epoch 8/50\n",
            "20/20 [==============================] - 0s 17ms/step - loss: 0.0806 - sparse_categorical_crossentropy: 0.0806\n",
            "Epoch 9/50\n",
            "20/20 [==============================] - 0s 18ms/step - loss: 0.0732 - sparse_categorical_crossentropy: 0.0732\n",
            "Epoch 10/50\n",
            "20/20 [==============================] - 0s 17ms/step - loss: 0.0691 - sparse_categorical_crossentropy: 0.0691\n",
            "Epoch 11/50\n",
            "20/20 [==============================] - 0s 17ms/step - loss: 0.0662 - sparse_categorical_crossentropy: 0.0662\n",
            "Epoch 12/50\n",
            "20/20 [==============================] - 0s 18ms/step - loss: 0.0640 - sparse_categorical_crossentropy: 0.0640\n",
            "Epoch 13/50\n",
            "20/20 [==============================] - 0s 18ms/step - loss: 0.0939 - sparse_categorical_crossentropy: 0.0939\n",
            "Epoch 14/50\n",
            "20/20 [==============================] - 0s 19ms/step - loss: 0.0699 - sparse_categorical_crossentropy: 0.0699\n",
            "Epoch 15/50\n",
            "20/20 [==============================] - 0s 18ms/step - loss: 0.0619 - sparse_categorical_crossentropy: 0.0619\n",
            "Epoch 16/50\n",
            "20/20 [==============================] - 0s 17ms/step - loss: 0.0595 - sparse_categorical_crossentropy: 0.0595\n",
            "Epoch 17/50\n",
            "20/20 [==============================] - 0s 18ms/step - loss: 0.0584 - sparse_categorical_crossentropy: 0.0584\n",
            "Epoch 18/50\n",
            "20/20 [==============================] - 0s 17ms/step - loss: 0.0591 - sparse_categorical_crossentropy: 0.0591\n",
            "Epoch 19/50\n",
            "20/20 [==============================] - 0s 17ms/step - loss: 0.0706 - sparse_categorical_crossentropy: 0.0706\n",
            "Epoch 20/50\n",
            "20/20 [==============================] - 0s 17ms/step - loss: 0.0616 - sparse_categorical_crossentropy: 0.0616\n",
            "Epoch 21/50\n",
            "20/20 [==============================] - 0s 17ms/step - loss: 0.0576 - sparse_categorical_crossentropy: 0.0576\n",
            "Epoch 22/50\n",
            "20/20 [==============================] - 0s 17ms/step - loss: 0.0580 - sparse_categorical_crossentropy: 0.0580\n",
            "Epoch 23/50\n",
            "20/20 [==============================] - 0s 17ms/step - loss: 0.0540 - sparse_categorical_crossentropy: 0.0540\n",
            "Epoch 24/50\n",
            "20/20 [==============================] - 0s 18ms/step - loss: 0.0539 - sparse_categorical_crossentropy: 0.0539\n",
            "Epoch 25/50\n",
            "20/20 [==============================] - 0s 17ms/step - loss: 0.0567 - sparse_categorical_crossentropy: 0.0567\n",
            "Epoch 26/50\n",
            "20/20 [==============================] - 0s 18ms/step - loss: 0.0537 - sparse_categorical_crossentropy: 0.0537\n",
            "Epoch 27/50\n",
            "20/20 [==============================] - 0s 17ms/step - loss: 0.0523 - sparse_categorical_crossentropy: 0.0523\n",
            "Epoch 28/50\n",
            "20/20 [==============================] - 0s 18ms/step - loss: 0.0547 - sparse_categorical_crossentropy: 0.0547\n",
            "Epoch 29/50\n",
            "20/20 [==============================] - 0s 17ms/step - loss: 0.0541 - sparse_categorical_crossentropy: 0.0541\n",
            "Epoch 30/50\n",
            "20/20 [==============================] - 0s 18ms/step - loss: 0.0516 - sparse_categorical_crossentropy: 0.0516\n",
            "Epoch 31/50\n",
            "20/20 [==============================] - 0s 18ms/step - loss: 0.0518 - sparse_categorical_crossentropy: 0.0518\n",
            "Epoch 32/50\n",
            "20/20 [==============================] - 0s 18ms/step - loss: 0.0528 - sparse_categorical_crossentropy: 0.0528\n",
            "Epoch 33/50\n",
            "20/20 [==============================] - 0s 17ms/step - loss: 0.0504 - sparse_categorical_crossentropy: 0.0504\n",
            "Epoch 34/50\n",
            "20/20 [==============================] - 0s 17ms/step - loss: 0.0508 - sparse_categorical_crossentropy: 0.0508\n",
            "Epoch 35/50\n",
            "20/20 [==============================] - 0s 17ms/step - loss: 0.0524 - sparse_categorical_crossentropy: 0.0524\n",
            "Epoch 36/50\n",
            "20/20 [==============================] - 0s 17ms/step - loss: 0.0502 - sparse_categorical_crossentropy: 0.0502\n",
            "Epoch 37/50\n",
            "20/20 [==============================] - 0s 17ms/step - loss: 0.0493 - sparse_categorical_crossentropy: 0.0493\n",
            "Epoch 38/50\n",
            "20/20 [==============================] - 0s 18ms/step - loss: 0.0508 - sparse_categorical_crossentropy: 0.0508\n",
            "Epoch 39/50\n",
            "20/20 [==============================] - 0s 17ms/step - loss: 0.0500 - sparse_categorical_crossentropy: 0.0500\n",
            "Epoch 40/50\n",
            "20/20 [==============================] - 0s 17ms/step - loss: 0.0492 - sparse_categorical_crossentropy: 0.0492\n",
            "Epoch 41/50\n",
            "20/20 [==============================] - 0s 19ms/step - loss: 0.0485 - sparse_categorical_crossentropy: 0.0485\n",
            "Epoch 42/50\n",
            "20/20 [==============================] - 0s 18ms/step - loss: 0.0481 - sparse_categorical_crossentropy: 0.0481\n",
            "Epoch 43/50\n",
            "20/20 [==============================] - 0s 18ms/step - loss: 0.0489 - sparse_categorical_crossentropy: 0.0489\n",
            "Epoch 44/50\n",
            "20/20 [==============================] - 0s 17ms/step - loss: 0.0473 - sparse_categorical_crossentropy: 0.0473\n",
            "Epoch 45/50\n",
            "20/20 [==============================] - 0s 18ms/step - loss: 0.0481 - sparse_categorical_crossentropy: 0.0481\n",
            "Epoch 46/50\n",
            "20/20 [==============================] - 0s 19ms/step - loss: 0.0502 - sparse_categorical_crossentropy: 0.0502\n",
            "Epoch 47/50\n",
            "20/20 [==============================] - 0s 18ms/step - loss: 0.0492 - sparse_categorical_crossentropy: 0.0492\n",
            "Epoch 48/50\n",
            "20/20 [==============================] - 0s 18ms/step - loss: 0.0463 - sparse_categorical_crossentropy: 0.0463\n",
            "Epoch 49/50\n",
            "20/20 [==============================] - 0s 19ms/step - loss: 0.0462 - sparse_categorical_crossentropy: 0.0462\n",
            "Epoch 50/50\n",
            "20/20 [==============================] - 0s 19ms/step - loss: 0.0497 - sparse_categorical_crossentropy: 0.0497\n"
          ],
          "name": "stdout"
        },
        {
          "output_type": "execute_result",
          "data": {
            "text/plain": [
              "<tensorflow.python.keras.callbacks.History at 0x7f9a039b5250>"
            ]
          },
          "metadata": {
            "tags": []
          },
          "execution_count": 23
        }
      ]
    },
    {
      "metadata": {
        "id": "zC-VT-cGpl0A",
        "colab_type": "text"
      },
      "cell_type": "markdown",
      "source": [
        "###Evaluation of the model"
      ]
    },
    {
      "metadata": {
        "id": "xto_EAjm1GdC",
        "colab_type": "code",
        "outputId": "376e3ee1-67ad-4791-cbdf-b5615c5be5e6",
        "colab": {
          "base_uri": "https://localhost:8080/",
          "height": 163
        }
      },
      "cell_type": "code",
      "source": [
        "tpu_model.evaluate(test_x, test_y,\n",
        "    steps = eval_steps)"
      ],
      "execution_count": 0,
      "outputs": [
        {
          "output_type": "stream",
          "text": [
            "INFO:tensorflow:New input shapes; (re-)compiling: mode=eval (# of cores 8), [TensorSpec(shape=(3,), dtype=tf.int32, name=u'core_id_40'), TensorSpec(shape=(3, 4), dtype=tf.float32, name=u'Dense_1_input_30'), TensorSpec(shape=(3, 1), dtype=tf.float32, name=u'softmax_target_70')]\n",
            "INFO:tensorflow:Overriding default placeholder.\n",
            "INFO:tensorflow:Remapping placeholder for Dense_1_input\n",
            "INFO:tensorflow:Started compiling\n",
            "INFO:tensorflow:Finished compiling. Time elapsed: 0.717143058777 secs\n",
            "50/50 [==============================] - 1s 27ms/step\n"
          ],
          "name": "stdout"
        },
        {
          "output_type": "execute_result",
          "data": {
            "text/plain": [
              "[0.06343143433332443, 0.06343143433332443]"
            ]
          },
          "metadata": {
            "tags": []
          },
          "execution_count": 24
        }
      ]
    },
    {
      "metadata": {
        "id": "VDX-D0fSpqbf",
        "colab_type": "text"
      },
      "cell_type": "markdown",
      "source": [
        "###Save the model"
      ]
    },
    {
      "metadata": {
        "id": "Cvpg8f-E2FsK",
        "colab_type": "code",
        "outputId": "9462637c-a6d4-4587-cf1c-6bed8e945c79",
        "colab": {
          "base_uri": "https://localhost:8080/",
          "height": 35
        }
      },
      "cell_type": "code",
      "source": [
        "tpu_model.save_weights('./DNN_TPU_1024.h5', overwrite=True)"
      ],
      "execution_count": 0,
      "outputs": [
        {
          "output_type": "stream",
          "text": [
            "INFO:tensorflow:Copying TPU weights to the CPU\n"
          ],
          "name": "stdout"
        }
      ]
    },
    {
      "metadata": {
        "id": "1vAGtvL9qz2t",
        "colab_type": "text"
      },
      "cell_type": "markdown",
      "source": [
        "##Prediction"
      ]
    },
    {
      "metadata": {
        "id": "2cM1O_2cq4pU",
        "colab_type": "text"
      },
      "cell_type": "markdown",
      "source": [
        "###Prediction data"
      ]
    },
    {
      "metadata": {
        "id": "i6qpnrapbiEy",
        "colab_type": "code",
        "outputId": "5028ff07-6ee9-45f6-d281-f3298f18e875",
        "colab": {
          "base_uri": "https://localhost:8080/",
          "height": 179
        }
      },
      "cell_type": "code",
      "source": [
        "COLUMNS_NAME=['SepalLength', 'SepalWidth', 'PetalLength', 'PetalWidth']\n",
        "data = pd.DataFrame(PREDICTION_INPUT_DATA, columns=COLUMNS_NAME)\n",
        "print(data)"
      ],
      "execution_count": 0,
      "outputs": [
        {
          "output_type": "stream",
          "text": [
            "   SepalLength  SepalWidth  PetalLength  PetalWidth\n",
            "0          6.9         3.1          5.4         2.1\n",
            "1          5.1         3.3          1.7         0.5\n",
            "2          5.9         3.0          4.2         1.5\n",
            "3          6.0         3.4          4.5         1.6\n",
            "4          5.5         2.5          4.0         1.3\n",
            "5          6.2         2.9          4.3         1.3\n",
            "6          5.5         4.2          1.4         0.2\n",
            "7          6.3         2.8          5.1         1.5\n"
          ],
          "name": "stdout"
        }
      ]
    },
    {
      "metadata": {
        "id": "he7_-JNtq82W",
        "colab_type": "text"
      },
      "cell_type": "markdown",
      "source": [
        "###Prediction on TPU"
      ]
    },
    {
      "metadata": {
        "id": "ZhnrwcSe3KER",
        "colab_type": "code",
        "outputId": "b3a9d307-aa79-4ae0-b060-e2a6e94032a3",
        "colab": {
          "base_uri": "https://localhost:8080/",
          "height": 395
        }
      },
      "cell_type": "code",
      "source": [
        "predictions = tpu_model.predict(data)\n",
        "template = ('\\nPrediction is \"{}\" ({:.1f}%), expected \"{}\"')\n",
        "for pred_dict, expec in zip(predictions, PREDICTION_OUTPUT_DATA):\n",
        "  class_index = np.argmax(pred_dict)\n",
        "  class_probability = np.max(pred_dict)\n",
        "  print(template.format(SPECIES[class_index], 100*class_probability, expec))"
      ],
      "execution_count": 0,
      "outputs": [
        {
          "output_type": "stream",
          "text": [
            "INFO:tensorflow:New input shapes; (re-)compiling: mode=infer (# of cores 8), [TensorSpec(shape=(1, 4), dtype=tf.float32, name=u'Dense_1_input_30')]\n",
            "INFO:tensorflow:Overriding default placeholder.\n",
            "INFO:tensorflow:Remapping placeholder for Dense_1_input\n",
            "INFO:tensorflow:Started compiling\n",
            "INFO:tensorflow:Finished compiling. Time elapsed: 0.63742518425 secs\n",
            "\n",
            "Prediction is \"Virginica\" (99.5%), expected \"Virginica\"\n",
            "\n",
            "Prediction is \"Setosa\" (99.9%), expected \"Setosa\"\n",
            "\n",
            "Prediction is \"Versicolor\" (99.9%), expected \"Versicolor\"\n",
            "\n",
            "Prediction is \"Versicolor\" (99.8%), expected \"Versicolor\"\n",
            "\n",
            "Prediction is \"Versicolor\" (99.8%), expected \"Versicolor\"\n",
            "\n",
            "Prediction is \"Versicolor\" (100.0%), expected \"Versicolor\"\n",
            "\n",
            "Prediction is \"Setosa\" (100.0%), expected \"Setosa\"\n",
            "\n",
            "Prediction is \"Versicolor\" (52.6%), expected \"Virginica\"\n"
          ],
          "name": "stdout"
        }
      ]
    },
    {
      "metadata": {
        "id": "DVpuJleArGKH",
        "colab_type": "text"
      },
      "cell_type": "markdown",
      "source": [
        "###Prediction on CPU"
      ]
    },
    {
      "metadata": {
        "id": "0DrKs2PGrIhY",
        "colab_type": "code",
        "outputId": "efb0dcd6-6e27-4898-acf8-f80f8cb786f6",
        "colab": {
          "base_uri": "https://localhost:8080/",
          "height": 323
        }
      },
      "cell_type": "code",
      "source": [
        "cpu_model = tpu_model.sync_to_cpu()\n",
        "cpu_predictions = cpu_model.predict(data)\n",
        "template = ('\\nPrediction is \"{}\" ({:.1f}%), expected \"{}\"')\n",
        "for pred_dict, expec in zip(cpu_predictions, PREDICTION_OUTPUT_DATA):\n",
        "  class_index = np.argmax(pred_dict)\n",
        "  class_probability = np.max(pred_dict)\n",
        "  print(template.format(SPECIES[class_index], 100*class_probability, expec))"
      ],
      "execution_count": 0,
      "outputs": [
        {
          "output_type": "stream",
          "text": [
            "INFO:tensorflow:Copying TPU weights to the CPU\n",
            "\n",
            "Prediction is \"Virginica\" (99.5%), expected \"Virginica\"\n",
            "\n",
            "Prediction is \"Setosa\" (99.9%), expected \"Setosa\"\n",
            "\n",
            "Prediction is \"Versicolor\" (99.9%), expected \"Versicolor\"\n",
            "\n",
            "Prediction is \"Versicolor\" (99.8%), expected \"Versicolor\"\n",
            "\n",
            "Prediction is \"Versicolor\" (99.8%), expected \"Versicolor\"\n",
            "\n",
            "Prediction is \"Versicolor\" (100.0%), expected \"Versicolor\"\n",
            "\n",
            "Prediction is \"Setosa\" (100.0%), expected \"Setosa\"\n",
            "\n",
            "Prediction is \"Versicolor\" (52.6%), expected \"Virginica\"\n"
          ],
          "name": "stdout"
        }
      ]
    }
  ]
}