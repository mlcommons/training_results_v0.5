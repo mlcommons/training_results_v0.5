{
  "nbformat": 4,
  "nbformat_minor": 0,
  "metadata": {
    "colab": {
      "name": "Simple Regression Model Using Keras on Colab TPU - [Full Sine as input]",
      "version": "0.3.2",
      "provenance": [],
      "collapsed_sections": []
    },
    "kernelspec": {
      "name": "python2",
      "display_name": "Python 2"
    },
    "accelerator": "TPU"
  },
  "cells": [
    {
      "metadata": {
        "id": "afRHQRnkeSeJ",
        "colab_type": "text"
      },
      "cell_type": "markdown",
      "source": [
        "# A simple regression model using Keras with Cloud TPUs\n",
        "\n",
        "This notebook demonstrates using Cloud TPUs in colab to build a simple regression model using **y = sin(x)** to predict y for given x.\n",
        "\n",
        "**Advantages:**\n",
        "*   GCP account is not compulsory which is a must pre-requisite for the models using TPUEstimator()\n",
        "*   Generated huge amount of data to compare the training performance on TPU vs CPU."
      ]
    },
    {
      "metadata": {
        "id": "6IhP5cGzewbQ",
        "colab_type": "text"
      },
      "cell_type": "markdown",
      "source": [
        "###Imports"
      ]
    },
    {
      "metadata": {
        "id": "JeMli385le2A",
        "colab_type": "code",
        "colab": {}
      },
      "cell_type": "code",
      "source": [
        "#  Copyright 2018 The TensorFlow Authors. All Rights Reserved.\n",
        "#\n",
        "#  Licensed under the Apache License, Version 2.0 (the \"License\");\n",
        "#  you may not use this file except in compliance with the License.\n",
        "#  You may obtain a copy of the License at\n",
        "#\n",
        "#   http://www.apache.org/licenses/LICENSE-2.0\n",
        "#\n",
        "#  Unless required by applicable law or agreed to in writing, software\n",
        "#  distributed under the License is distributed on an \"AS IS\" BASIS,0\n",
        "#  WITHOUT WARRANTIES OR CONDITIONS OF ANY KIND, either express or implied.\n",
        "#  See the License for the specific language governing permissions and\n",
        "#  limitations under the License.\n",
        "\"\"\"An Example of a Regression model using Keras for the y = sin(x) dataset.\"\"\"\n",
        "\n",
        "import numpy as np\n",
        "import tensorflow as tf\n",
        "import tensorflow.keras as keras\n",
        "import math\n",
        "import os\n",
        "import pprint\n",
        "import matplotlib.pyplot as plt\n",
        "\n",
        "from sklearn import metrics"
      ],
      "execution_count": 0,
      "outputs": []
    },
    {
      "metadata": {
        "id": "U-fdEJFNfICv",
        "colab_type": "code",
        "outputId": "3724d7bc-6dc1-4a6c-fe14-3e9c7fcd04ad",
        "colab": {
          "base_uri": "https://localhost:8080/",
          "height": 35
        }
      },
      "cell_type": "code",
      "source": [
        "print(tf.__version__)"
      ],
      "execution_count": 0,
      "outputs": [
        {
          "output_type": "stream",
          "text": [
            "1.12.0-rc2\n"
          ],
          "name": "stdout"
        }
      ]
    },
    {
      "metadata": {
        "id": "kK51TQYnfiXO",
        "colab_type": "text"
      },
      "cell_type": "markdown",
      "source": [
        "###Resolve TPU Address"
      ]
    },
    {
      "metadata": {
        "id": "YWmHCZrufCO4",
        "colab_type": "code",
        "outputId": "e7945232-1450-46f0-ec7e-3bce1786796c",
        "colab": {
          "base_uri": "https://localhost:8080/",
          "height": 251
        }
      },
      "cell_type": "code",
      "source": [
        "use_tpu = True #@param {type:\"boolean\"}\n",
        "\n",
        "if use_tpu:\n",
        "    assert 'COLAB_TPU_ADDR' in os.environ, 'Missing TPU; did you request a TPU in Notebook Settings?'\n",
        "\n",
        "if 'COLAB_TPU_ADDR' in os.environ:\n",
        "  TF_MASTER = 'grpc://{}'.format(os.environ['COLAB_TPU_ADDR'])\n",
        "else:\n",
        "  TF_MASTER=''\n",
        "\n",
        "with tf.Session(TF_MASTER) as session:\n",
        "  print ('List of devices:')\n",
        "  pprint.pprint(session.list_devices())"
      ],
      "execution_count": 0,
      "outputs": [
        {
          "output_type": "stream",
          "text": [
            "List of devices:\n",
            "[_DeviceAttributes(/job:tpu_worker/replica:0/task:0/device:CPU:0, CPU, -1, 3204130715220914658),\n",
            " _DeviceAttributes(/job:tpu_worker/replica:0/task:0/device:XLA_CPU:0, XLA_CPU, 17179869184, 1757131222346187914),\n",
            " _DeviceAttributes(/job:tpu_worker/replica:0/task:0/device:XLA_GPU:0, XLA_GPU, 17179869184, 14189073471542166552),\n",
            " _DeviceAttributes(/job:tpu_worker/replica:0/task:0/device:TPU:0, TPU, 17179869184, 18089629823860601296),\n",
            " _DeviceAttributes(/job:tpu_worker/replica:0/task:0/device:TPU:1, TPU, 17179869184, 3346547477748453737),\n",
            " _DeviceAttributes(/job:tpu_worker/replica:0/task:0/device:TPU:2, TPU, 17179869184, 6512962655626301676),\n",
            " _DeviceAttributes(/job:tpu_worker/replica:0/task:0/device:TPU:3, TPU, 17179869184, 1886142505182871901),\n",
            " _DeviceAttributes(/job:tpu_worker/replica:0/task:0/device:TPU:4, TPU, 17179869184, 49656553673112525),\n",
            " _DeviceAttributes(/job:tpu_worker/replica:0/task:0/device:TPU:5, TPU, 17179869184, 1173330136390527977),\n",
            " _DeviceAttributes(/job:tpu_worker/replica:0/task:0/device:TPU:6, TPU, 17179869184, 8029696445054773714),\n",
            " _DeviceAttributes(/job:tpu_worker/replica:0/task:0/device:TPU:7, TPU, 17179869184, 867116612521745007),\n",
            " _DeviceAttributes(/job:tpu_worker/replica:0/task:0/device:TPU_SYSTEM:0, TPU_SYSTEM, 17179869184, 18125553718687585414)]\n"
          ],
          "name": "stdout"
        }
      ]
    },
    {
      "metadata": {
        "id": "Vy1qljh-vWxW",
        "colab_type": "text"
      },
      "cell_type": "markdown",
      "source": [
        "### Creating data for y = sin(x).\n",
        "Sine wave data is created using numpy. And to make it more difficult, random noice is added to the sine wave."
      ]
    },
    {
      "metadata": {
        "id": "89lavEaRsMiu",
        "colab_type": "code",
        "outputId": "6f8bd410-37e0-4049-b30c-d50627b315b3",
        "colab": {
          "base_uri": "https://localhost:8080/",
          "height": 365
        }
      },
      "cell_type": "code",
      "source": [
        "data_size = 2**18\n",
        "\n",
        "x = np.linspace(0, 6, data_size)\n",
        "np.random.shuffle(x)\n",
        "\n",
        "y = -20 * np.sin(x) + 3 + np.random.normal(0, 1, (data_size,))\n",
        "\n",
        "x = x.reshape(-1, 1)\n",
        "y = y.reshape(-1, 1)\n",
        "\n",
        "train_x, test_x = x[:data_size/2], x[data_size/2:]\n",
        "train_y, test_y = y[:data_size/2], y[data_size/2:]\n",
        "\n",
        "plt.plot(x, y, 'bo')"
      ],
      "execution_count": 0,
      "outputs": [
        {
          "output_type": "execute_result",
          "data": {
            "text/plain": [
              "[<matplotlib.lines.Line2D at 0x7fb150f2f250>]"
            ]
          },
          "metadata": {
            "tags": []
          },
          "execution_count": 14
        },
        {
          "output_type": "display_data",
          "data": {
            "image/png": "[encoded data removed]",
            "text/plain": [
              "<matplotlib.figure.Figure at 0x7fb150fae390>"
            ]
          },
          "metadata": {
            "tags": []
          }
        }
      ]
    },
    {
      "metadata": {
        "id": "XPNNUZ7ygjGk",
        "colab_type": "text"
      },
      "cell_type": "markdown",
      "source": [
        "###Define model:\n",
        "Model will have an input layer where it takes in the x coordinate, two densely connected layers with 200 and 80 nodes, and an output layer where it returns the predicted y value."
      ]
    },
    {
      "metadata": {
        "id": "mzINcHJdln91",
        "colab_type": "code",
        "colab": {}
      },
      "cell_type": "code",
      "source": [
        "def get_model():\n",
        "  return keras.Sequential([\n",
        "      keras.layers.Dense(1, input_shape=(1,)),\n",
        "      keras.layers.Dense(200, activation=tf.nn.sigmoid),\n",
        "      keras.layers.Dense(80, activation=tf.nn.sigmoid),\n",
        "      keras.layers.Dense(1)\n",
        "  ])"
      ],
      "execution_count": 0,
      "outputs": []
    },
    {
      "metadata": {
        "id": "aKk5vUvalpfF",
        "colab_type": "code",
        "colab": {}
      },
      "cell_type": "code",
      "source": [
        "model = get_model()\n",
        "model.compile(optimizer=tf.train.GradientDescentOptimizer(.01),\n",
        "             loss='mean_squared_error',\n",
        "             metrics=['mean_squared_error'])"
      ],
      "execution_count": 0,
      "outputs": []
    },
    {
      "metadata": {
        "id": "ggY7UortwcgK",
        "colab_type": "text"
      },
      "cell_type": "markdown",
      "source": [
        "###Creating a TPU model from a Keras Model\n",
        "To make the model usable by a TPU, converting it using keras_to_tpu_model."
      ]
    },
    {
      "metadata": {
        "id": "j-2PBN7smmCy",
        "colab_type": "code",
        "outputId": "cbb899b1-d088-4c49-df45-1d0023a0eaab",
        "colab": {
          "base_uri": "https://localhost:8080/",
          "height": 341
        }
      },
      "cell_type": "code",
      "source": [
        "tpu_model = tf.contrib.tpu.keras_to_tpu_model(\n",
        "    model,\n",
        "    strategy=tf.contrib.tpu.TPUDistributionStrategy(\n",
        "        tf.contrib.cluster_resolver.TPUClusterResolver(TF_MASTER)))"
      ],
      "execution_count": 0,
      "outputs": [
        {
          "output_type": "stream",
          "text": [
            "INFO:tensorflow:Querying Tensorflow master (grpc://10.63.218.106:8470) for TPU system metadata.\n",
            "INFO:tensorflow:Found TPU system:\n",
            "INFO:tensorflow:*** Num TPU Cores: 8\n",
            "INFO:tensorflow:*** Num TPU Workers: 1\n",
            "INFO:tensorflow:*** Num TPU Cores Per Worker: 8\n",
            "INFO:tensorflow:*** Available Device: _DeviceAttributes(/job:worker/replica:0/task:0/device:CPU:0, CPU, -1, 3204130715220914658)\n",
            "INFO:tensorflow:*** Available Device: _DeviceAttributes(/job:worker/replica:0/task:0/device:XLA_CPU:0, XLA_CPU, 17179869184, 1757131222346187914)\n",
            "INFO:tensorflow:*** Available Device: _DeviceAttributes(/job:worker/replica:0/task:0/device:XLA_GPU:0, XLA_GPU, 17179869184, 14189073471542166552)\n",
            "INFO:tensorflow:*** Available Device: _DeviceAttributes(/job:worker/replica:0/task:0/device:TPU:0, TPU, 17179869184, 18089629823860601296)\n",
            "INFO:tensorflow:*** Available Device: _DeviceAttributes(/job:worker/replica:0/task:0/device:TPU:1, TPU, 17179869184, 3346547477748453737)\n",
            "INFO:tensorflow:*** Available Device: _DeviceAttributes(/job:worker/replica:0/task:0/device:TPU:2, TPU, 17179869184, 6512962655626301676)\n",
            "INFO:tensorflow:*** Available Device: _DeviceAttributes(/job:worker/replica:0/task:0/device:TPU:3, TPU, 17179869184, 1886142505182871901)\n",
            "INFO:tensorflow:*** Available Device: _DeviceAttributes(/job:worker/replica:0/task:0/device:TPU:4, TPU, 17179869184, 49656553673112525)\n",
            "INFO:tensorflow:*** Available Device: _DeviceAttributes(/job:worker/replica:0/task:0/device:TPU:5, TPU, 17179869184, 1173330136390527977)\n",
            "INFO:tensorflow:*** Available Device: _DeviceAttributes(/job:worker/replica:0/task:0/device:TPU:6, TPU, 17179869184, 8029696445054773714)\n",
            "INFO:tensorflow:*** Available Device: _DeviceAttributes(/job:worker/replica:0/task:0/device:TPU:7, TPU, 17179869184, 867116612521745007)\n",
            "INFO:tensorflow:*** Available Device: _DeviceAttributes(/job:worker/replica:0/task:0/device:TPU_SYSTEM:0, TPU_SYSTEM, 17179869184, 18125553718687585414)\n",
            "WARNING:tensorflow:tpu_model (from tensorflow.contrib.tpu.python.tpu.keras_support) is experimental and may change or be removed at any time, and without warning.\n"
          ],
          "name": "stdout"
        }
      ]
    },
    {
      "metadata": {
        "id": "ze8cEk8cw3oL",
        "colab_type": "text"
      },
      "cell_type": "markdown",
      "source": [
        "###Training of the model on TPU"
      ]
    },
    {
      "metadata": {
        "id": "nedmSZk4lsE1",
        "colab_type": "code",
        "outputId": "d20be76b-b9fb-4c54-d7a2-2ee9ebcec7f8",
        "colab": {
          "base_uri": "https://localhost:8080/",
          "height": 523
        }
      },
      "cell_type": "code",
      "source": [
        "tpu_model.fit(train_x, train_y, epochs=10, steps_per_epoch=512)\n",
        "tpu_model.save_weights('/tmp/sine.h5', overwrite=True)"
      ],
      "execution_count": 0,
      "outputs": [
        {
          "output_type": "stream",
          "text": [
            "Epoch 1/10\n",
            "INFO:tensorflow:New input shapes; (re-)compiling: mode=train (# of cores 8), [TensorSpec(shape=(16384,), dtype=tf.int32, name=u'core_id0'), TensorSpec(shape=(16384, 1), dtype=tf.float32, name=u'dense_4_input_10'), TensorSpec(shape=(16384, 1), dtype=tf.float32, name=u'dense_7_target_30')]\n",
            "INFO:tensorflow:Overriding default placeholder.\n",
            "INFO:tensorflow:Remapping placeholder for dense_4_input\n",
            "INFO:tensorflow:Started compiling\n",
            "INFO:tensorflow:Finished compiling. Time elapsed: 18.0318541527 secs\n",
            "INFO:tensorflow:Setting weights on TPU model.\n",
            "512/512 [==============================] - 33s 65ms/step - loss: 38.1645 - mean_squared_error: 38.1645\n",
            "Epoch 2/10\n",
            "512/512 [==============================] - 14s 26ms/step - loss: 8.4381 - mean_squared_error: 8.4381\n",
            "Epoch 3/10\n",
            "512/512 [==============================] - 14s 26ms/step - loss: 7.3682 - mean_squared_error: 7.3682\n",
            "Epoch 4/10\n",
            "512/512 [==============================] - 13s 26ms/step - loss: 7.3235 - mean_squared_error: 7.3235\n",
            "Epoch 5/10\n",
            "512/512 [==============================] - 13s 26ms/step - loss: 6.6394 - mean_squared_error: 6.6394\n",
            "Epoch 6/10\n",
            "512/512 [==============================] - 14s 26ms/step - loss: 5.6076 - mean_squared_error: 5.6076\n",
            "Epoch 7/10\n",
            "512/512 [==============================] - 14s 28ms/step - loss: 5.0474 - mean_squared_error: 5.0474\n",
            "Epoch 8/10\n",
            "512/512 [==============================] - 13s 26ms/step - loss: 4.6826 - mean_squared_error: 4.6826\n",
            "Epoch 9/10\n",
            "512/512 [==============================] - 13s 26ms/step - loss: 4.3695 - mean_squared_error: 4.3695\n",
            "Epoch 10/10\n",
            "512/512 [==============================] - 13s 26ms/step - loss: 4.0963 - mean_squared_error: 4.0963\n",
            "INFO:tensorflow:Copying TPU weights to the CPU\n"
          ],
          "name": "stdout"
        }
      ]
    },
    {
      "metadata": {
        "id": "ZFphWL2ExXjC",
        "colab_type": "text"
      },
      "cell_type": "markdown",
      "source": [
        "###Prediction\n",
        "For predictions, same model architecture is being used which is loaded with the earlier learned weights."
      ]
    },
    {
      "metadata": {
        "colab_type": "code",
        "id": "vpz43puBo3vz",
        "colab": {}
      },
      "cell_type": "code",
      "source": [
        "prediction_model = get_model()\n",
        "prediction_model.load_weights('/tmp/sine.h5')"
      ],
      "execution_count": 0,
      "outputs": []
    },
    {
      "metadata": {
        "id": "1Vc44SqfluY1",
        "colab_type": "code",
        "outputId": "dc1e33eb-0ce3-49ea-d324-09687ab14cfc",
        "colab": {
          "base_uri": "https://localhost:8080/",
          "height": 369
        }
      },
      "cell_type": "code",
      "source": [
        "predictions = prediction_model.predict(test_x)\n",
        "plt.plot(test_x, predictions, 'ro')"
      ],
      "execution_count": 0,
      "outputs": [
        {
          "output_type": "execute_result",
          "data": {
            "text/plain": [
              "[<matplotlib.lines.Line2D at 0x7fb14c970ed0>]"
            ]
          },
          "metadata": {
            "tags": []
          },
          "execution_count": 20
        },
        {
          "output_type": "display_data",
          "data": {
            "image/png": "[encoded data removed]",
            "text/plain": [
              "<matplotlib.figure.Figure at 0x7fb14c9af7d0>"
            ]
          },
          "metadata": {
            "tags": []
          }
        }
      ]
    },
    {
      "metadata": {
        "id": "q8Sdh-1n4pqt",
        "colab_type": "text"
      },
      "cell_type": "markdown",
      "source": [
        "###Training on CPU for comparison with TPU\n",
        "How much time did we save by using a TPU? Let's try training the exact same model on the same data, but without the TPU speedup.\n",
        "\n",
        "**(WARNING: This will take a long time to execute!)**"
      ]
    },
    {
      "metadata": {
        "id": "YCkqpEXu4Xx4",
        "colab_type": "code",
        "outputId": "18a9e694-4baf-455d-a346-c341552f1e8a",
        "colab": {
          "base_uri": "https://localhost:8080/",
          "height": 395
        }
      },
      "cell_type": "code",
      "source": [
        "slow_model = get_model()\n",
        "slow_model.compile(optimizer=tf.train.GradientDescentOptimizer(.01),\n",
        "             loss='mean_squared_error',\n",
        "             metrics=['mean_squared_error'])\n",
        "slow_model.fit(train_x, train_y, epochs=10, steps_per_epoch=512)"
      ],
      "execution_count": 0,
      "outputs": [
        {
          "output_type": "stream",
          "text": [
            "Epoch 1/10\n",
            "512/512 [==============================] - 45s 88ms/step - loss: 40.1559 - mean_squared_error: 40.1559\n",
            "Epoch 2/10\n",
            "512/512 [==============================] - 44s 87ms/step - loss: 8.6203 - mean_squared_error: 8.6203\n",
            "Epoch 3/10\n",
            "512/512 [==============================] - 44s 86ms/step - loss: 7.5388 - mean_squared_error: 7.5388\n",
            "Epoch 4/10\n",
            "512/512 [==============================] - 44s 85ms/step - loss: 7.3395 - mean_squared_error: 7.3395\n",
            "Epoch 5/10\n",
            "512/512 [==============================] - 44s 86ms/step - loss: 6.3310 - mean_squared_error: 6.3310\n",
            "Epoch 6/10\n",
            "512/512 [==============================] - 44s 87ms/step - loss: 5.3646 - mean_squared_error: 5.3646\n",
            "Epoch 7/10\n",
            "512/512 [==============================] - 45s 88ms/step - loss: 4.9005 - mean_squared_error: 4.9005\n",
            "Epoch 8/10\n",
            "512/512 [==============================] - 44s 86ms/step - loss: 4.5581 - mean_squared_error: 4.5581\n",
            "Epoch 9/10\n",
            "512/512 [==============================] - 44s 87ms/step - loss: 4.2622 - mean_squared_error: 4.2622\n",
            "Epoch 10/10\n",
            "512/512 [==============================] - 44s 86ms/step - loss: 4.0092 - mean_squared_error: 4.0092\n"
          ],
          "name": "stdout"
        },
        {
          "output_type": "execute_result",
          "data": {
            "text/plain": [
              "<tensorflow.python.keras.callbacks.History at 0x7fb14c9af3d0>"
            ]
          },
          "metadata": {
            "tags": []
          },
          "execution_count": 21
        }
      ]
    }
  ]
}